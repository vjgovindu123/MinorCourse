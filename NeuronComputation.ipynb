{
 "cells": [
  {
   "cell_type": "code",
   "execution_count": 2,
   "id": "a0d3c54d",
   "metadata": {},
   "outputs": [
    {
     "name": "stdout",
     "output_type": "stream",
     "text": [
      "215.0\n"
     ]
    }
   ],
   "source": [
    "import numpy as np\n",
    "X=np.array([1,2,3,4,5])\n",
    "y=np.array([2,4,5,4,5])\n",
    "the_0=0\n",
    "the_1=0\n",
    "m=len(y)\n",
    "#Computing\n",
    "def compute(X,y,the_0,the_1):\n",
    "    tc=0\n",
    "    for i in range(m):\n",
    "        hyp=the_0+the_1*X[i]\n",
    "        tc+=(hyp-y[i])**2\n",
    "    return tc/2*m\n",
    "\n",
    "#Calculate cost\n",
    "in_cost=compute(X,y,the_0,the_1)\n",
    "print(in_cost)\n"
   ]
  },
  {
   "cell_type": "code",
   "execution_count": null,
   "id": "115bae0d",
   "metadata": {},
   "outputs": [],
   "source": []
  }
 ],
 "metadata": {
  "kernelspec": {
   "display_name": "Python 3 (ipykernel)",
   "language": "python",
   "name": "python3"
  },
  "language_info": {
   "codemirror_mode": {
    "name": "ipython",
    "version": 3
   },
   "file_extension": ".py",
   "mimetype": "text/x-python",
   "name": "python",
   "nbconvert_exporter": "python",
   "pygments_lexer": "ipython3",
   "version": "3.11.4"
  }
 },
 "nbformat": 4,
 "nbformat_minor": 5
}
